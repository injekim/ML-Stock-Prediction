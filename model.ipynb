{
 "cells": [
  {
   "cell_type": "code",
   "execution_count": 1,
   "id": "e60f2fb0",
   "metadata": {
    "ExecuteTime": {
     "end_time": "2023-05-31T14:07:54.201832Z",
     "start_time": "2023-05-31T14:07:54.138525Z"
    },
    "execution": {
     "iopub.execute_input": "2023-06-02T12:13:51.025440Z",
     "iopub.status.busy": "2023-06-02T12:13:51.025002Z",
     "iopub.status.idle": "2023-06-02T12:13:51.036818Z",
     "shell.execute_reply": "2023-06-02T12:13:51.035926Z"
    },
    "papermill": {
     "duration": 0.032075,
     "end_time": "2023-06-02T12:13:51.039604",
     "exception": false,
     "start_time": "2023-06-02T12:13:51.007529",
     "status": "completed"
    },
    "tags": []
   },
   "outputs": [],
   "source": [
    "import matplotlib.pyplot as plt\n",
    "import pandas as pd\n",
    "import numpy as np\n",
    "import os"
   ]
  },
  {
   "cell_type": "markdown",
   "id": "a58bea66",
   "metadata": {
    "papermill": {
     "duration": 0.013545,
     "end_time": "2023-06-02T12:13:51.066574",
     "exception": false,
     "start_time": "2023-06-02T12:13:51.053029",
     "status": "completed"
    },
    "tags": []
   },
   "source": [
    "### Load data from file"
   ]
  },
  {
   "cell_type": "code",
   "execution_count": 2,
   "id": "ffd77a3b",
   "metadata": {
    "ExecuteTime": {
     "end_time": "2023-05-31T14:07:54.202050Z",
     "start_time": "2023-05-31T14:07:54.141318Z"
    },
    "collapsed": false,
    "execution": {
     "iopub.execute_input": "2023-06-02T12:13:51.094362Z",
     "iopub.status.busy": "2023-06-02T12:13:51.093970Z",
     "iopub.status.idle": "2023-06-02T12:13:51.098349Z",
     "shell.execute_reply": "2023-06-02T12:13:51.097271Z"
    },
    "jupyter": {
     "outputs_hidden": false
    },
    "papermill": {
     "duration": 0.021853,
     "end_time": "2023-06-02T12:13:51.101175",
     "exception": false,
     "start_time": "2023-06-02T12:13:51.079322",
     "status": "completed"
    },
    "tags": []
   },
   "outputs": [],
   "source": [
    "dir = '/kaggle/input/aapljson/AAPL.json'"
   ]
  },
  {
   "cell_type": "code",
   "execution_count": 3,
   "id": "0c39c88d",
   "metadata": {
    "ExecuteTime": {
     "end_time": "2023-05-31T14:07:54.224913Z",
     "start_time": "2023-05-31T14:07:54.147834Z"
    },
    "collapsed": false,
    "execution": {
     "iopub.execute_input": "2023-06-02T12:13:51.128126Z",
     "iopub.status.busy": "2023-06-02T12:13:51.127356Z",
     "iopub.status.idle": "2023-06-02T12:13:51.268940Z",
     "shell.execute_reply": "2023-06-02T12:13:51.267604Z"
    },
    "jupyter": {
     "outputs_hidden": false
    },
    "papermill": {
     "duration": 0.158627,
     "end_time": "2023-06-02T12:13:51.272290",
     "exception": false,
     "start_time": "2023-06-02T12:13:51.113663",
     "status": "completed"
    },
    "tags": []
   },
   "outputs": [],
   "source": [
    "if os.path.exists(dir):\n",
    "    with open(dir) as f:\n",
    "        df = pd.read_json(dir)\n",
    "else:\n",
    "    raise SystemExit(\"File not found!\")"
   ]
  },
  {
   "cell_type": "code",
   "execution_count": 4,
   "id": "e6b2e6b8",
   "metadata": {
    "ExecuteTime": {
     "end_time": "2023-05-31T14:07:54.286768Z",
     "start_time": "2023-05-31T14:07:54.225412Z"
    },
    "collapsed": false,
    "execution": {
     "iopub.execute_input": "2023-06-02T12:13:51.300788Z",
     "iopub.status.busy": "2023-06-02T12:13:51.300372Z",
     "iopub.status.idle": "2023-06-02T12:13:51.330173Z",
     "shell.execute_reply": "2023-06-02T12:13:51.328675Z"
    },
    "jupyter": {
     "outputs_hidden": false
    },
    "papermill": {
     "duration": 0.047848,
     "end_time": "2023-06-02T12:13:51.333078",
     "exception": false,
     "start_time": "2023-06-02T12:13:51.285230",
     "status": "completed"
    },
    "tags": []
   },
   "outputs": [
    {
     "data": {
      "text/html": [
       "<div>\n",
       "<style scoped>\n",
       "    .dataframe tbody tr th:only-of-type {\n",
       "        vertical-align: middle;\n",
       "    }\n",
       "\n",
       "    .dataframe tbody tr th {\n",
       "        vertical-align: top;\n",
       "    }\n",
       "\n",
       "    .dataframe thead th {\n",
       "        text-align: right;\n",
       "    }\n",
       "</style>\n",
       "<table border=\"1\" class=\"dataframe\">\n",
       "  <thead>\n",
       "    <tr style=\"text-align: right;\">\n",
       "      <th></th>\n",
       "      <th>Open</th>\n",
       "      <th>High</th>\n",
       "      <th>Low</th>\n",
       "      <th>Close</th>\n",
       "      <th>Volume</th>\n",
       "      <th>Dividends</th>\n",
       "      <th>Stock Splits</th>\n",
       "    </tr>\n",
       "  </thead>\n",
       "  <tbody>\n",
       "    <tr>\n",
       "      <th>1980-12-12 05:00:00</th>\n",
       "      <td>0.099584</td>\n",
       "      <td>0.100017</td>\n",
       "      <td>0.099584</td>\n",
       "      <td>0.099584</td>\n",
       "      <td>469033600</td>\n",
       "      <td>0.0</td>\n",
       "      <td>0</td>\n",
       "    </tr>\n",
       "    <tr>\n",
       "      <th>1980-12-15 05:00:00</th>\n",
       "      <td>0.094821</td>\n",
       "      <td>0.094821</td>\n",
       "      <td>0.094388</td>\n",
       "      <td>0.094388</td>\n",
       "      <td>175884800</td>\n",
       "      <td>0.0</td>\n",
       "      <td>0</td>\n",
       "    </tr>\n",
       "    <tr>\n",
       "      <th>1980-12-16 05:00:00</th>\n",
       "      <td>0.087893</td>\n",
       "      <td>0.087893</td>\n",
       "      <td>0.087461</td>\n",
       "      <td>0.087461</td>\n",
       "      <td>105728000</td>\n",
       "      <td>0.0</td>\n",
       "      <td>0</td>\n",
       "    </tr>\n",
       "    <tr>\n",
       "      <th>1980-12-17 05:00:00</th>\n",
       "      <td>0.089625</td>\n",
       "      <td>0.090058</td>\n",
       "      <td>0.089625</td>\n",
       "      <td>0.089625</td>\n",
       "      <td>86441600</td>\n",
       "      <td>0.0</td>\n",
       "      <td>0</td>\n",
       "    </tr>\n",
       "    <tr>\n",
       "      <th>1980-12-18 05:00:00</th>\n",
       "      <td>0.092224</td>\n",
       "      <td>0.092657</td>\n",
       "      <td>0.092224</td>\n",
       "      <td>0.092224</td>\n",
       "      <td>73449600</td>\n",
       "      <td>0.0</td>\n",
       "      <td>0</td>\n",
       "    </tr>\n",
       "  </tbody>\n",
       "</table>\n",
       "</div>"
      ],
      "text/plain": [
       "                         Open      High       Low     Close     Volume  \\\n",
       "1980-12-12 05:00:00  0.099584  0.100017  0.099584  0.099584  469033600   \n",
       "1980-12-15 05:00:00  0.094821  0.094821  0.094388  0.094388  175884800   \n",
       "1980-12-16 05:00:00  0.087893  0.087893  0.087461  0.087461  105728000   \n",
       "1980-12-17 05:00:00  0.089625  0.090058  0.089625  0.089625   86441600   \n",
       "1980-12-18 05:00:00  0.092224  0.092657  0.092224  0.092224   73449600   \n",
       "\n",
       "                     Dividends  Stock Splits  \n",
       "1980-12-12 05:00:00        0.0             0  \n",
       "1980-12-15 05:00:00        0.0             0  \n",
       "1980-12-16 05:00:00        0.0             0  \n",
       "1980-12-17 05:00:00        0.0             0  \n",
       "1980-12-18 05:00:00        0.0             0  "
      ]
     },
     "execution_count": 4,
     "metadata": {},
     "output_type": "execute_result"
    }
   ],
   "source": [
    "df.head()"
   ]
  },
  {
   "cell_type": "markdown",
   "id": "5fafc7be",
   "metadata": {
    "papermill": {
     "duration": 0.012541,
     "end_time": "2023-06-02T12:13:51.358397",
     "exception": false,
     "start_time": "2023-06-02T12:13:51.345856",
     "status": "completed"
    },
    "tags": []
   },
   "source": [
    "### Add Target\n",
    "> Assign a value of 1 if the price is expected to increase tomorrow, or 0 if it is not."
   ]
  },
  {
   "cell_type": "code",
   "execution_count": 5,
   "id": "e7c4a074",
   "metadata": {
    "ExecuteTime": {
     "end_time": "2023-05-31T14:07:54.286927Z",
     "start_time": "2023-05-31T14:07:54.241816Z"
    },
    "collapsed": false,
    "execution": {
     "iopub.execute_input": "2023-06-02T12:13:51.385882Z",
     "iopub.status.busy": "2023-06-02T12:13:51.385043Z",
     "iopub.status.idle": "2023-06-02T12:13:51.392888Z",
     "shell.execute_reply": "2023-06-02T12:13:51.391957Z"
    },
    "jupyter": {
     "outputs_hidden": false
    },
    "papermill": {
     "duration": 0.024358,
     "end_time": "2023-06-02T12:13:51.395119",
     "exception": false,
     "start_time": "2023-06-02T12:13:51.370761",
     "status": "completed"
    },
    "tags": []
   },
   "outputs": [],
   "source": [
    "df['Target'] = np.where(df['Close'].shift(-1) > df['Close'], 1, 0)"
   ]
  },
  {
   "cell_type": "code",
   "execution_count": 6,
   "id": "09710428",
   "metadata": {
    "ExecuteTime": {
     "end_time": "2023-05-31T14:07:54.287493Z",
     "start_time": "2023-05-31T14:07:54.255361Z"
    },
    "collapsed": false,
    "execution": {
     "iopub.execute_input": "2023-06-02T12:13:51.422962Z",
     "iopub.status.busy": "2023-06-02T12:13:51.421538Z",
     "iopub.status.idle": "2023-06-02T12:13:51.433288Z",
     "shell.execute_reply": "2023-06-02T12:13:51.432017Z"
    },
    "jupyter": {
     "outputs_hidden": false
    },
    "papermill": {
     "duration": 0.028563,
     "end_time": "2023-06-02T12:13:51.436149",
     "exception": false,
     "start_time": "2023-06-02T12:13:51.407586",
     "status": "completed"
    },
    "tags": []
   },
   "outputs": [],
   "source": [
    "X = df.drop('Target', axis=1)\n",
    "y = df['Target']"
   ]
  },
  {
   "cell_type": "code",
   "execution_count": 7,
   "id": "d09ea4d3",
   "metadata": {
    "ExecuteTime": {
     "end_time": "2023-05-31T14:07:54.287745Z",
     "start_time": "2023-05-31T14:07:54.260803Z"
    },
    "collapsed": false,
    "execution": {
     "iopub.execute_input": "2023-06-02T12:13:51.462748Z",
     "iopub.status.busy": "2023-06-02T12:13:51.462336Z",
     "iopub.status.idle": "2023-06-02T12:13:51.473948Z",
     "shell.execute_reply": "2023-06-02T12:13:51.472830Z"
    },
    "jupyter": {
     "outputs_hidden": false
    },
    "papermill": {
     "duration": 0.027755,
     "end_time": "2023-06-02T12:13:51.476384",
     "exception": false,
     "start_time": "2023-06-02T12:13:51.448629",
     "status": "completed"
    },
    "tags": []
   },
   "outputs": [
    {
     "data": {
      "text/plain": [
       "0    5386\n",
       "1    5319\n",
       "Name: Target, dtype: int64"
      ]
     },
     "execution_count": 7,
     "metadata": {},
     "output_type": "execute_result"
    }
   ],
   "source": [
    "y.value_counts()"
   ]
  },
  {
   "cell_type": "markdown",
   "id": "7d0abe1b",
   "metadata": {
    "papermill": {
     "duration": 0.012301,
     "end_time": "2023-06-02T12:13:51.501245",
     "exception": false,
     "start_time": "2023-06-02T12:13:51.488944",
     "status": "completed"
    },
    "tags": []
   },
   "source": [
    "### Create backtest function\n",
    "> Create backtest function to more accurately test the model on time series data."
   ]
  },
  {
   "cell_type": "code",
   "execution_count": 8,
   "id": "54bb96e8",
   "metadata": {
    "ExecuteTime": {
     "end_time": "2023-05-31T14:07:54.287842Z",
     "start_time": "2023-05-31T14:07:54.273096Z"
    },
    "collapsed": false,
    "execution": {
     "iopub.execute_input": "2023-06-02T12:13:51.528700Z",
     "iopub.status.busy": "2023-06-02T12:13:51.528190Z",
     "iopub.status.idle": "2023-06-02T12:13:51.540106Z",
     "shell.execute_reply": "2023-06-02T12:13:51.538700Z"
    },
    "jupyter": {
     "outputs_hidden": false
    },
    "papermill": {
     "duration": 0.029111,
     "end_time": "2023-06-02T12:13:51.542880",
     "exception": false,
     "start_time": "2023-06-02T12:13:51.513769",
     "status": "completed"
    },
    "tags": []
   },
   "outputs": [],
   "source": [
    "from IPython.display import clear_output\n",
    "def backtest(model, X, y, init=1000, test=365, selector=None):\n",
    "# def backtest(model, X, y, init=2000, test=500, selector=None):\n",
    "    preds = pd.DataFrame()\n",
    "    for i in range(init, len(X), test):\n",
    "        X_train, X_test = X[:i], X[i:i+test]\n",
    "        y_train, y_test = y[:i], y[i:i+test]\n",
    "        # X_train, X_test = X[i-init:i], X[i:i+test]\n",
    "        # y_train, y_test = y[i-init:i], y[i:i+test]\n",
    "        close = X_test['Close'].copy()\n",
    "\n",
    "        if selector is not None:\n",
    "            selector.fit(X_train, y_train)\n",
    "            selected = selector.get_support()\n",
    "            X_train, X_test = X_train.iloc[:, selected], X_test.iloc[:, selected]\n",
    "\n",
    "        model.fit(X_train, y_train)\n",
    "\n",
    "        temp = pd.concat([\n",
    "            close,\n",
    "            y_test,\n",
    "            pd.DataFrame(model.predict(X_test), columns=['y_pred'], index=y_test.index),\n",
    "            pd.DataFrame(model.predict_proba(X_test)[:,1], columns=['y_prob'], index=y_test.index)\n",
    "        ], axis=1)\n",
    "        preds = pd.concat([preds, temp], axis=0)\n",
    "\n",
    "        # Progress bar. Because this takes a while...\n",
    "        clear_output(wait=False)\n",
    "        print(f\"[{'█'*int(i/(len(X))*50)}{' '*(50-int(i/(len(X))*50))}] {i}/{len(X)}\")\n",
    "    return preds"
   ]
  },
  {
   "cell_type": "markdown",
   "id": "d65a8051",
   "metadata": {
    "papermill": {
     "duration": 0.012338,
     "end_time": "2023-06-02T12:13:51.567831",
     "exception": false,
     "start_time": "2023-06-02T12:13:51.555493",
     "status": "completed"
    },
    "tags": []
   },
   "source": [
    "### First model fit on raw data"
   ]
  },
  {
   "cell_type": "code",
   "execution_count": 9,
   "id": "78ce3747",
   "metadata": {
    "ExecuteTime": {
     "end_time": "2023-05-31T14:07:54.675356Z",
     "start_time": "2023-05-31T14:07:54.276376Z"
    },
    "collapsed": false,
    "execution": {
     "iopub.execute_input": "2023-06-02T12:13:51.595848Z",
     "iopub.status.busy": "2023-06-02T12:13:51.595343Z",
     "iopub.status.idle": "2023-06-02T12:13:53.463572Z",
     "shell.execute_reply": "2023-06-02T12:13:53.462254Z"
    },
    "jupyter": {
     "outputs_hidden": false
    },
    "papermill": {
     "duration": 1.88609,
     "end_time": "2023-06-02T12:13:53.466517",
     "exception": false,
     "start_time": "2023-06-02T12:13:51.580427",
     "status": "completed"
    },
    "tags": []
   },
   "outputs": [],
   "source": [
    "from sklearn.ensemble import GradientBoostingClassifier\n",
    "clf = GradientBoostingClassifier(random_state=0)"
   ]
  },
  {
   "cell_type": "code",
   "execution_count": 10,
   "id": "544386cb",
   "metadata": {
    "ExecuteTime": {
     "end_time": "2023-05-31T14:08:19.877642Z",
     "start_time": "2023-05-31T14:07:54.660387Z"
    },
    "collapsed": false,
    "execution": {
     "iopub.execute_input": "2023-06-02T12:13:53.494335Z",
     "iopub.status.busy": "2023-06-02T12:13:53.493933Z",
     "iopub.status.idle": "2023-06-02T12:14:26.858466Z",
     "shell.execute_reply": "2023-06-02T12:14:26.856880Z"
    },
    "jupyter": {
     "outputs_hidden": false
    },
    "papermill": {
     "duration": 33.381848,
     "end_time": "2023-06-02T12:14:26.861443",
     "exception": false,
     "start_time": "2023-06-02T12:13:53.479595",
     "status": "completed"
    },
    "tags": []
   },
   "outputs": [
    {
     "name": "stdout",
     "output_type": "stream",
     "text": [
      "[████████████████████████████████████████████████  ] 10490/10705\n",
      "              precision    recall  f1-score   support\n",
      "\n",
      "           0       0.50      0.68      0.58      4836\n",
      "           1       0.51      0.33      0.40      4869\n",
      "\n",
      "    accuracy                           0.51      9705\n",
      "   macro avg       0.51      0.51      0.49      9705\n",
      "weighted avg       0.51      0.51      0.49      9705\n",
      "\n"
     ]
    }
   ],
   "source": [
    "from sklearn.metrics import classification_report\n",
    "results_init = backtest(clf, X, y)\n",
    "print(classification_report(results_init['Target'], results_init['y_pred']))"
   ]
  },
  {
   "cell_type": "markdown",
   "id": "126bc088",
   "metadata": {
    "papermill": {
     "duration": 0.015112,
     "end_time": "2023-06-02T12:14:26.890945",
     "exception": false,
     "start_time": "2023-06-02T12:14:26.875833",
     "status": "completed"
    },
    "tags": []
   },
   "source": [
    "### Add features"
   ]
  },
  {
   "cell_type": "code",
   "execution_count": 11,
   "id": "fe8e56dd",
   "metadata": {
    "ExecuteTime": {
     "end_time": "2023-05-31T14:08:19.885167Z",
     "start_time": "2023-05-31T14:08:19.877482Z"
    },
    "collapsed": false,
    "execution": {
     "iopub.execute_input": "2023-06-02T12:14:26.919796Z",
     "iopub.status.busy": "2023-06-02T12:14:26.919378Z",
     "iopub.status.idle": "2023-06-02T12:14:26.930588Z",
     "shell.execute_reply": "2023-06-02T12:14:26.929472Z"
    },
    "jupyter": {
     "outputs_hidden": false
    },
    "papermill": {
     "duration": 0.028855,
     "end_time": "2023-06-02T12:14:26.933448",
     "exception": false,
     "start_time": "2023-06-02T12:14:26.904593",
     "status": "completed"
    },
    "tags": []
   },
   "outputs": [],
   "source": [
    "# Ratios\n",
    "df['High/Close'] = df['High'] / df['Close']\n",
    "df['Low/Close'] = df['Low'] / df['Close']\n",
    "df['Open/Close'] = df['Open'] / df['Close']\n",
    "df['High/Low'] = df['High'] / df['Low']"
   ]
  },
  {
   "cell_type": "code",
   "execution_count": 12,
   "id": "53774481",
   "metadata": {
    "ExecuteTime": {
     "end_time": "2023-05-31T14:08:19.891421Z",
     "start_time": "2023-05-31T14:08:19.885918Z"
    },
    "collapsed": false,
    "execution": {
     "iopub.execute_input": "2023-06-02T12:14:26.963148Z",
     "iopub.status.busy": "2023-06-02T12:14:26.962710Z",
     "iopub.status.idle": "2023-06-02T12:14:26.977282Z",
     "shell.execute_reply": "2023-06-02T12:14:26.976138Z"
    },
    "jupyter": {
     "outputs_hidden": false
    },
    "papermill": {
     "duration": 0.033059,
     "end_time": "2023-06-02T12:14:26.980293",
     "exception": false,
     "start_time": "2023-06-02T12:14:26.947234",
     "status": "completed"
    },
    "tags": []
   },
   "outputs": [],
   "source": [
    "# Last dividend amount\n",
    "df['Last Dividend'] = df['Dividends']\n",
    "df.loc[df['Last Dividend'] == 0, 'Last Dividend'] = None\n",
    "df['Last Dividend'] = df['Last Dividend'].ffill()"
   ]
  },
  {
   "cell_type": "code",
   "execution_count": 13,
   "id": "4a0a15d2",
   "metadata": {
    "ExecuteTime": {
     "end_time": "2023-05-31T14:08:19.961401Z",
     "start_time": "2023-05-31T14:08:19.893621Z"
    },
    "collapsed": false,
    "execution": {
     "iopub.execute_input": "2023-06-02T12:14:27.011092Z",
     "iopub.status.busy": "2023-06-02T12:14:27.010228Z",
     "iopub.status.idle": "2023-06-02T12:14:27.017827Z",
     "shell.execute_reply": "2023-06-02T12:14:27.016610Z"
    },
    "jupyter": {
     "outputs_hidden": false
    },
    "papermill": {
     "duration": 0.025982,
     "end_time": "2023-06-02T12:14:27.020574",
     "exception": false,
     "start_time": "2023-06-02T12:14:26.994592",
     "status": "completed"
    },
    "tags": []
   },
   "outputs": [],
   "source": [
    "def days_since(df, col, new_col):\n",
    "    df[new_col] = float('nan')\n",
    "    days_counter = 0\n",
    "    split_occurred = False\n",
    "\n",
    "    for i, row in df.iterrows():\n",
    "        split_value = row[col]\n",
    "        if split_value > 0:\n",
    "            if not split_occurred:\n",
    "                split_occurred = True\n",
    "            days_counter = 0\n",
    "        else:\n",
    "            if split_occurred:\n",
    "                days_counter += 1\n",
    "        if split_occurred:\n",
    "            df.at[i, new_col] = days_counter\n",
    "    return df"
   ]
  },
  {
   "cell_type": "code",
   "execution_count": 14,
   "id": "32928bcc",
   "metadata": {
    "ExecuteTime": {
     "end_time": "2023-05-31T14:08:22.328285Z",
     "start_time": "2023-05-31T14:08:19.896545Z"
    },
    "collapsed": false,
    "execution": {
     "iopub.execute_input": "2023-06-02T12:14:27.050662Z",
     "iopub.status.busy": "2023-06-02T12:14:27.050025Z",
     "iopub.status.idle": "2023-06-02T12:14:29.132079Z",
     "shell.execute_reply": "2023-06-02T12:14:29.130535Z"
    },
    "jupyter": {
     "outputs_hidden": false
    },
    "papermill": {
     "duration": 2.100417,
     "end_time": "2023-06-02T12:14:29.135187",
     "exception": false,
     "start_time": "2023-06-02T12:14:27.034770",
     "status": "completed"
    },
    "tags": []
   },
   "outputs": [],
   "source": [
    "# Days since dividend payment or stock split\n",
    "df = days_since(df, 'Dividends', 'Days Since Dividend')\n",
    "df = days_since(df, 'Stock Splits', 'Days Since Split')"
   ]
  },
  {
   "cell_type": "code",
   "execution_count": 15,
   "id": "0b94e117",
   "metadata": {
    "ExecuteTime": {
     "end_time": "2023-05-31T14:08:22.344000Z",
     "start_time": "2023-05-31T14:08:22.330896Z"
    },
    "collapsed": false,
    "execution": {
     "iopub.execute_input": "2023-06-02T12:14:29.166081Z",
     "iopub.status.busy": "2023-06-02T12:14:29.165689Z",
     "iopub.status.idle": "2023-06-02T12:14:29.197275Z",
     "shell.execute_reply": "2023-06-02T12:14:29.195936Z"
    },
    "jupyter": {
     "outputs_hidden": false
    },
    "papermill": {
     "duration": 0.051317,
     "end_time": "2023-06-02T12:14:29.200225",
     "exception": false,
     "start_time": "2023-06-02T12:14:29.148908",
     "status": "completed"
    },
    "tags": []
   },
   "outputs": [],
   "source": [
    "# Rolling average, standard deviation\n",
    "rolling_window = [7, 20, 90, 365]\n",
    "for window in rolling_window:\n",
    "    df[f'SMA_{window}'] = df['Close'].rolling(window).mean()\n",
    "    df[f'STD_{window}'] = df['Close'].rolling(window).std()\n",
    "\n",
    "# Ratios of SMAs\n",
    "df['365/90'] = df['SMA_365'] / df['SMA_90']\n",
    "df['365/20'] = df['SMA_365'] / df['SMA_20']\n",
    "df['365/7'] = df['SMA_365'] / df['SMA_7']"
   ]
  },
  {
   "cell_type": "code",
   "execution_count": 16,
   "id": "5f4bcfbb",
   "metadata": {
    "ExecuteTime": {
     "end_time": "2023-05-31T14:08:22.380114Z",
     "start_time": "2023-05-31T14:08:22.348005Z"
    },
    "collapsed": false,
    "execution": {
     "iopub.execute_input": "2023-06-02T12:14:29.229338Z",
     "iopub.status.busy": "2023-06-02T12:14:29.228748Z",
     "iopub.status.idle": "2023-06-02T12:14:29.245855Z",
     "shell.execute_reply": "2023-06-02T12:14:29.244969Z"
    },
    "jupyter": {
     "outputs_hidden": false
    },
    "papermill": {
     "duration": 0.034471,
     "end_time": "2023-06-02T12:14:29.248416",
     "exception": false,
     "start_time": "2023-06-02T12:14:29.213945",
     "status": "completed"
    },
    "tags": []
   },
   "outputs": [],
   "source": [
    "# Bollinger Bands\n",
    "df['Upper_Band'] = df['SMA_20'] + (df['STD_20'] * 2)\n",
    "df['Lower_Band'] = df['SMA_20'] - (df['STD_20'] * 2)\n",
    "\n",
    "# Relative Strength Index (RSI)\n",
    "delta = df['Close'].diff()\n",
    "SMA_U = delta.where(delta > 0, 0).rolling(14).mean()\n",
    "SMA_D = -delta.where(delta < 0, 0).rolling(14).mean()\n",
    "df['RSI'] = 100 - (100 / (1 + SMA_U / SMA_D))\n",
    "\n",
    "# MACD\n",
    "df['MACD'] = df['Close'].ewm(span=12, adjust=False).mean() - df['Close'].ewm(span=26, adjust=False).mean()\n",
    "df['MACD_Signal'] = df['MACD'].ewm(span=9).mean()"
   ]
  },
  {
   "cell_type": "code",
   "execution_count": 17,
   "id": "4846dae6",
   "metadata": {
    "ExecuteTime": {
     "end_time": "2023-05-31T14:08:22.394003Z",
     "start_time": "2023-05-31T14:08:22.364488Z"
    },
    "collapsed": false,
    "execution": {
     "iopub.execute_input": "2023-06-02T12:14:29.276834Z",
     "iopub.status.busy": "2023-06-02T12:14:29.276210Z",
     "iopub.status.idle": "2023-06-02T12:14:29.303170Z",
     "shell.execute_reply": "2023-06-02T12:14:29.301944Z"
    },
    "jupyter": {
     "outputs_hidden": false
    },
    "papermill": {
     "duration": 0.044944,
     "end_time": "2023-06-02T12:14:29.306483",
     "exception": false,
     "start_time": "2023-06-02T12:14:29.261539",
     "status": "completed"
    },
    "tags": []
   },
   "outputs": [],
   "source": [
    "df['Trend'] = df.shift(1).rolling(7).sum()['Target']"
   ]
  },
  {
   "cell_type": "code",
   "execution_count": 18,
   "id": "99ecdede",
   "metadata": {
    "ExecuteTime": {
     "end_time": "2023-05-31T14:08:22.436925Z",
     "start_time": "2023-05-31T14:08:22.386635Z"
    },
    "collapsed": false,
    "execution": {
     "iopub.execute_input": "2023-06-02T12:14:29.336949Z",
     "iopub.status.busy": "2023-06-02T12:14:29.336528Z",
     "iopub.status.idle": "2023-06-02T12:14:29.370385Z",
     "shell.execute_reply": "2023-06-02T12:14:29.369211Z"
    },
    "jupyter": {
     "outputs_hidden": false
    },
    "papermill": {
     "duration": 0.053289,
     "end_time": "2023-06-02T12:14:29.373342",
     "exception": false,
     "start_time": "2023-06-02T12:14:29.320053",
     "status": "completed"
    },
    "tags": []
   },
   "outputs": [
    {
     "data": {
      "text/html": [
       "<div>\n",
       "<style scoped>\n",
       "    .dataframe tbody tr th:only-of-type {\n",
       "        vertical-align: middle;\n",
       "    }\n",
       "\n",
       "    .dataframe tbody tr th {\n",
       "        vertical-align: top;\n",
       "    }\n",
       "\n",
       "    .dataframe thead th {\n",
       "        text-align: right;\n",
       "    }\n",
       "</style>\n",
       "<table border=\"1\" class=\"dataframe\">\n",
       "  <thead>\n",
       "    <tr style=\"text-align: right;\">\n",
       "      <th></th>\n",
       "      <th>Open</th>\n",
       "      <th>High</th>\n",
       "      <th>Low</th>\n",
       "      <th>Close</th>\n",
       "      <th>Volume</th>\n",
       "      <th>Dividends</th>\n",
       "      <th>Stock Splits</th>\n",
       "      <th>Target</th>\n",
       "      <th>High/Close</th>\n",
       "      <th>Low/Close</th>\n",
       "      <th>...</th>\n",
       "      <th>STD_365</th>\n",
       "      <th>365/90</th>\n",
       "      <th>365/20</th>\n",
       "      <th>365/7</th>\n",
       "      <th>Upper_Band</th>\n",
       "      <th>Lower_Band</th>\n",
       "      <th>RSI</th>\n",
       "      <th>MACD</th>\n",
       "      <th>MACD_Signal</th>\n",
       "      <th>Trend</th>\n",
       "    </tr>\n",
       "  </thead>\n",
       "  <tbody>\n",
       "    <tr>\n",
       "      <th>1987-06-16 04:00:00</th>\n",
       "      <td>0.287932</td>\n",
       "      <td>0.289667</td>\n",
       "      <td>0.263649</td>\n",
       "      <td>0.287932</td>\n",
       "      <td>342720000</td>\n",
       "      <td>0.0</td>\n",
       "      <td>2</td>\n",
       "      <td>0</td>\n",
       "      <td>1.006024</td>\n",
       "      <td>0.915663</td>\n",
       "      <td>...</td>\n",
       "      <td>0.060710</td>\n",
       "      <td>0.608166</td>\n",
       "      <td>0.555224</td>\n",
       "      <td>0.545601</td>\n",
       "      <td>0.285623</td>\n",
       "      <td>0.254206</td>\n",
       "      <td>65.217131</td>\n",
       "      <td>0.003958</td>\n",
       "      <td>0.003300</td>\n",
       "      <td>3.0</td>\n",
       "    </tr>\n",
       "    <tr>\n",
       "      <th>1987-06-17 04:00:00</th>\n",
       "      <td>0.287932</td>\n",
       "      <td>0.294870</td>\n",
       "      <td>0.277525</td>\n",
       "      <td>0.280994</td>\n",
       "      <td>297920000</td>\n",
       "      <td>0.0</td>\n",
       "      <td>0</td>\n",
       "      <td>1</td>\n",
       "      <td>1.049382</td>\n",
       "      <td>0.987655</td>\n",
       "      <td>...</td>\n",
       "      <td>0.060985</td>\n",
       "      <td>0.607830</td>\n",
       "      <td>0.554506</td>\n",
       "      <td>0.544416</td>\n",
       "      <td>0.285832</td>\n",
       "      <td>0.256685</td>\n",
       "      <td>53.845773</td>\n",
       "      <td>0.004219</td>\n",
       "      <td>0.003483</td>\n",
       "      <td>3.0</td>\n",
       "    </tr>\n",
       "    <tr>\n",
       "      <th>1987-06-18 04:00:00</th>\n",
       "      <td>0.279260</td>\n",
       "      <td>0.289667</td>\n",
       "      <td>0.274056</td>\n",
       "      <td>0.287932</td>\n",
       "      <td>229600000</td>\n",
       "      <td>0.0</td>\n",
       "      <td>0</td>\n",
       "      <td>0</td>\n",
       "      <td>1.006024</td>\n",
       "      <td>0.951808</td>\n",
       "      <td>...</td>\n",
       "      <td>0.061293</td>\n",
       "      <td>0.607260</td>\n",
       "      <td>0.553605</td>\n",
       "      <td>0.542110</td>\n",
       "      <td>0.287806</td>\n",
       "      <td>0.257660</td>\n",
       "      <td>64.284921</td>\n",
       "      <td>0.004928</td>\n",
       "      <td>0.003772</td>\n",
       "      <td>3.0</td>\n",
       "    </tr>\n",
       "    <tr>\n",
       "      <th>1987-06-19 04:00:00</th>\n",
       "      <td>0.287932</td>\n",
       "      <td>0.289667</td>\n",
       "      <td>0.280127</td>\n",
       "      <td>0.284463</td>\n",
       "      <td>125440000</td>\n",
       "      <td>0.0</td>\n",
       "      <td>0</td>\n",
       "      <td>1</td>\n",
       "      <td>1.018294</td>\n",
       "      <td>0.984757</td>\n",
       "      <td>...</td>\n",
       "      <td>0.061571</td>\n",
       "      <td>0.606772</td>\n",
       "      <td>0.553037</td>\n",
       "      <td>0.540769</td>\n",
       "      <td>0.288389</td>\n",
       "      <td>0.259680</td>\n",
       "      <td>65.453449</td>\n",
       "      <td>0.005150</td>\n",
       "      <td>0.004048</td>\n",
       "      <td>3.0</td>\n",
       "    </tr>\n",
       "    <tr>\n",
       "      <th>1987-06-22 04:00:00</th>\n",
       "      <td>0.286198</td>\n",
       "      <td>0.293136</td>\n",
       "      <td>0.283596</td>\n",
       "      <td>0.291401</td>\n",
       "      <td>169120000</td>\n",
       "      <td>0.0</td>\n",
       "      <td>0</td>\n",
       "      <td>0</td>\n",
       "      <td>1.005952</td>\n",
       "      <td>0.973213</td>\n",
       "      <td>...</td>\n",
       "      <td>0.061886</td>\n",
       "      <td>0.606522</td>\n",
       "      <td>0.551714</td>\n",
       "      <td>0.538090</td>\n",
       "      <td>0.289788</td>\n",
       "      <td>0.261706</td>\n",
       "      <td>72.129772</td>\n",
       "      <td>0.005820</td>\n",
       "      <td>0.004402</td>\n",
       "      <td>3.0</td>\n",
       "    </tr>\n",
       "  </tbody>\n",
       "</table>\n",
       "<p>5 rows × 32 columns</p>\n",
       "</div>"
      ],
      "text/plain": [
       "                         Open      High       Low     Close     Volume  \\\n",
       "1987-06-16 04:00:00  0.287932  0.289667  0.263649  0.287932  342720000   \n",
       "1987-06-17 04:00:00  0.287932  0.294870  0.277525  0.280994  297920000   \n",
       "1987-06-18 04:00:00  0.279260  0.289667  0.274056  0.287932  229600000   \n",
       "1987-06-19 04:00:00  0.287932  0.289667  0.280127  0.284463  125440000   \n",
       "1987-06-22 04:00:00  0.286198  0.293136  0.283596  0.291401  169120000   \n",
       "\n",
       "                     Dividends  Stock Splits  Target  High/Close  Low/Close  \\\n",
       "1987-06-16 04:00:00        0.0             2       0    1.006024   0.915663   \n",
       "1987-06-17 04:00:00        0.0             0       1    1.049382   0.987655   \n",
       "1987-06-18 04:00:00        0.0             0       0    1.006024   0.951808   \n",
       "1987-06-19 04:00:00        0.0             0       1    1.018294   0.984757   \n",
       "1987-06-22 04:00:00        0.0             0       0    1.005952   0.973213   \n",
       "\n",
       "                     ...   STD_365    365/90    365/20     365/7  Upper_Band  \\\n",
       "1987-06-16 04:00:00  ...  0.060710  0.608166  0.555224  0.545601    0.285623   \n",
       "1987-06-17 04:00:00  ...  0.060985  0.607830  0.554506  0.544416    0.285832   \n",
       "1987-06-18 04:00:00  ...  0.061293  0.607260  0.553605  0.542110    0.287806   \n",
       "1987-06-19 04:00:00  ...  0.061571  0.606772  0.553037  0.540769    0.288389   \n",
       "1987-06-22 04:00:00  ...  0.061886  0.606522  0.551714  0.538090    0.289788   \n",
       "\n",
       "                     Lower_Band        RSI      MACD  MACD_Signal  Trend  \n",
       "1987-06-16 04:00:00    0.254206  65.217131  0.003958     0.003300    3.0  \n",
       "1987-06-17 04:00:00    0.256685  53.845773  0.004219     0.003483    3.0  \n",
       "1987-06-18 04:00:00    0.257660  64.284921  0.004928     0.003772    3.0  \n",
       "1987-06-19 04:00:00    0.259680  65.453449  0.005150     0.004048    3.0  \n",
       "1987-06-22 04:00:00    0.261706  72.129772  0.005820     0.004402    3.0  \n",
       "\n",
       "[5 rows x 32 columns]"
      ]
     },
     "execution_count": 18,
     "metadata": {},
     "output_type": "execute_result"
    }
   ],
   "source": [
    "df = df.dropna()\n",
    "df.head()"
   ]
  },
  {
   "cell_type": "code",
   "execution_count": 19,
   "id": "cd92c630",
   "metadata": {
    "ExecuteTime": {
     "end_time": "2023-05-31T14:08:22.437729Z",
     "start_time": "2023-05-31T14:08:22.417828Z"
    },
    "collapsed": false,
    "execution": {
     "iopub.execute_input": "2023-06-02T12:14:29.406451Z",
     "iopub.status.busy": "2023-06-02T12:14:29.406003Z",
     "iopub.status.idle": "2023-06-02T12:14:29.414403Z",
     "shell.execute_reply": "2023-06-02T12:14:29.413426Z"
    },
    "jupyter": {
     "outputs_hidden": false
    },
    "papermill": {
     "duration": 0.027448,
     "end_time": "2023-06-02T12:14:29.416918",
     "exception": false,
     "start_time": "2023-06-02T12:14:29.389470",
     "status": "completed"
    },
    "tags": []
   },
   "outputs": [],
   "source": [
    "X = df.drop('Target', axis=1)\n",
    "y = df['Target']"
   ]
  },
  {
   "cell_type": "code",
   "execution_count": 20,
   "id": "1b30f1aa",
   "metadata": {
    "ExecuteTime": {
     "end_time": "2023-05-31T14:08:22.438373Z",
     "start_time": "2023-05-31T14:08:22.424208Z"
    },
    "collapsed": false,
    "execution": {
     "iopub.execute_input": "2023-06-02T12:14:29.449152Z",
     "iopub.status.busy": "2023-06-02T12:14:29.448429Z",
     "iopub.status.idle": "2023-06-02T12:14:29.457350Z",
     "shell.execute_reply": "2023-06-02T12:14:29.456223Z"
    },
    "jupyter": {
     "outputs_hidden": false
    },
    "papermill": {
     "duration": 0.028274,
     "end_time": "2023-06-02T12:14:29.459642",
     "exception": false,
     "start_time": "2023-06-02T12:14:29.431368",
     "status": "completed"
    },
    "tags": []
   },
   "outputs": [
    {
     "data": {
      "text/plain": [
       "1    4565\n",
       "0    4496\n",
       "Name: Target, dtype: int64"
      ]
     },
     "execution_count": 20,
     "metadata": {},
     "output_type": "execute_result"
    }
   ],
   "source": [
    "y.value_counts()"
   ]
  },
  {
   "cell_type": "markdown",
   "id": "d5c2b6b8",
   "metadata": {
    "papermill": {
     "duration": 0.014945,
     "end_time": "2023-06-02T12:14:29.489296",
     "exception": false,
     "start_time": "2023-06-02T12:14:29.474351",
     "status": "completed"
    },
    "tags": []
   },
   "source": [
    "### Model fit on augmented data"
   ]
  },
  {
   "cell_type": "code",
   "execution_count": 21,
   "id": "d2ad9bfc",
   "metadata": {
    "execution": {
     "iopub.execute_input": "2023-06-02T12:14:29.520646Z",
     "iopub.status.busy": "2023-06-02T12:14:29.519890Z",
     "iopub.status.idle": "2023-06-02T12:16:29.315309Z",
     "shell.execute_reply": "2023-06-02T12:16:29.313684Z"
    },
    "papermill": {
     "duration": 119.814374,
     "end_time": "2023-06-02T12:16:29.318083",
     "exception": false,
     "start_time": "2023-06-02T12:14:29.503709",
     "status": "completed"
    },
    "tags": []
   },
   "outputs": [
    {
     "name": "stdout",
     "output_type": "stream",
     "text": [
      "[█████████████████████████████████████████████████ ] 9030/9061\n",
      "              precision    recall  f1-score   support\n",
      "\n",
      "           0       0.50      0.68      0.57      3972\n",
      "           1       0.51      0.33      0.40      4089\n",
      "\n",
      "    accuracy                           0.50      8061\n",
      "   macro avg       0.50      0.50      0.49      8061\n",
      "weighted avg       0.50      0.50      0.49      8061\n",
      "\n"
     ]
    }
   ],
   "source": [
    "results_aug = backtest(clf, X, y)\n",
    "print(classification_report(results_aug['Target'], results_aug['y_pred']))"
   ]
  },
  {
   "cell_type": "markdown",
   "id": "534ffe88",
   "metadata": {
    "papermill": {
     "duration": 0.014708,
     "end_time": "2023-06-02T12:16:29.347665",
     "exception": false,
     "start_time": "2023-06-02T12:16:29.332957",
     "status": "completed"
    },
    "tags": []
   },
   "source": [
    "### Model fit with feature selection"
   ]
  },
  {
   "cell_type": "code",
   "execution_count": 22,
   "id": "ecc490b3",
   "metadata": {
    "ExecuteTime": {
     "end_time": "2023-05-31T14:08:22.445024Z",
     "start_time": "2023-05-31T14:08:22.430005Z"
    },
    "collapsed": false,
    "execution": {
     "iopub.execute_input": "2023-06-02T12:16:29.380279Z",
     "iopub.status.busy": "2023-06-02T12:16:29.379294Z",
     "iopub.status.idle": "2023-06-02T12:16:29.422680Z",
     "shell.execute_reply": "2023-06-02T12:16:29.421473Z"
    },
    "jupyter": {
     "outputs_hidden": false
    },
    "papermill": {
     "duration": 0.062967,
     "end_time": "2023-06-02T12:16:29.425798",
     "exception": false,
     "start_time": "2023-06-02T12:16:29.362831",
     "status": "completed"
    },
    "tags": []
   },
   "outputs": [],
   "source": [
    "# Feature selection\n",
    "from sklearn.feature_selection import SequentialFeatureSelector\n",
    "selector = SequentialFeatureSelector(clf, n_features_to_select='auto', n_jobs=-1)"
   ]
  },
  {
   "cell_type": "code",
   "execution_count": 23,
   "id": "207a04aa",
   "metadata": {
    "ExecuteTime": {
     "end_time": "2023-05-31T15:51:09.562219Z",
     "start_time": "2023-05-31T14:08:22.448791Z"
    },
    "collapsed": false,
    "execution": {
     "iopub.execute_input": "2023-06-02T12:16:29.459273Z",
     "iopub.status.busy": "2023-06-02T12:16:29.458826Z",
     "iopub.status.idle": "2023-06-02T17:09:31.807874Z",
     "shell.execute_reply": "2023-06-02T17:09:31.806287Z"
    },
    "jupyter": {
     "outputs_hidden": false
    },
    "papermill": {
     "duration": 17582.370472,
     "end_time": "2023-06-02T17:09:31.811438",
     "exception": false,
     "start_time": "2023-06-02T12:16:29.440966",
     "status": "completed"
    },
    "tags": []
   },
   "outputs": [
    {
     "name": "stdout",
     "output_type": "stream",
     "text": [
      "[█████████████████████████████████████████████████ ] 9030/9061\n",
      "              precision    recall  f1-score   support\n",
      "\n",
      "           0       0.50      0.58      0.53      3972\n",
      "           1       0.51      0.43      0.47      4089\n",
      "\n",
      "    accuracy                           0.50      8061\n",
      "   macro avg       0.50      0.50      0.50      8061\n",
      "weighted avg       0.50      0.50      0.50      8061\n",
      "\n"
     ]
    }
   ],
   "source": [
    "results_fs = backtest(clf, X, y, selector=selector)\n",
    "print(classification_report(results_fs['Target'], results_fs['y_pred']))"
   ]
  },
  {
   "cell_type": "markdown",
   "id": "36299588",
   "metadata": {
    "papermill": {
     "duration": 0.015057,
     "end_time": "2023-06-02T17:09:31.842273",
     "exception": false,
     "start_time": "2023-06-02T17:09:31.827216",
     "status": "completed"
    },
    "tags": []
   },
   "source": [
    "### Plot cumulative returns"
   ]
  },
  {
   "cell_type": "code",
   "execution_count": 24,
   "id": "a68e85ee",
   "metadata": {
    "execution": {
     "iopub.execute_input": "2023-06-02T17:09:31.874617Z",
     "iopub.status.busy": "2023-06-02T17:09:31.874213Z",
     "iopub.status.idle": "2023-06-02T17:09:31.880220Z",
     "shell.execute_reply": "2023-06-02T17:09:31.878992Z"
    },
    "papermill": {
     "duration": 0.025513,
     "end_time": "2023-06-02T17:09:31.882729",
     "exception": false,
     "start_time": "2023-06-02T17:09:31.857216",
     "status": "completed"
    },
    "tags": []
   },
   "outputs": [],
   "source": [
    "def calc_returns(df, close='Close', y_pred='y_pred'):\n",
    "    df['Return'] = np.log(df[close].shift(-1) / df[close])\n",
    "    df['Model Return'] = df[y_pred] * df[close]\n",
    "    return df"
   ]
  },
  {
   "cell_type": "code",
   "execution_count": 25,
   "id": "928ead1e",
   "metadata": {
    "execution": {
     "iopub.execute_input": "2023-06-02T17:09:31.914622Z",
     "iopub.status.busy": "2023-06-02T17:09:31.914194Z",
     "iopub.status.idle": "2023-06-02T17:09:31.933251Z",
     "shell.execute_reply": "2023-06-02T17:09:31.932163Z"
    },
    "papermill": {
     "duration": 0.038582,
     "end_time": "2023-06-02T17:09:31.936243",
     "exception": false,
     "start_time": "2023-06-02T17:09:31.897661",
     "status": "completed"
    },
    "tags": []
   },
   "outputs": [],
   "source": [
    "# Calculate daily returns\n",
    "results_init = calc_returns(results_init).dropna()\n",
    "results_aug = calc_returns(results_aug).dropna()\n",
    "results_fs = calc_returns(results_fs).dropna()"
   ]
  },
  {
   "cell_type": "code",
   "execution_count": 26,
   "id": "2fbb054c",
   "metadata": {
    "execution": {
     "iopub.execute_input": "2023-06-02T17:09:31.968515Z",
     "iopub.status.busy": "2023-06-02T17:09:31.968075Z",
     "iopub.status.idle": "2023-06-02T17:09:31.977147Z",
     "shell.execute_reply": "2023-06-02T17:09:31.975869Z"
    },
    "papermill": {
     "duration": 0.02862,
     "end_time": "2023-06-02T17:09:31.979912",
     "exception": false,
     "start_time": "2023-06-02T17:09:31.951292",
     "status": "completed"
    },
    "tags": []
   },
   "outputs": [],
   "source": [
    "results_init = results_init[results_aug.index[0]:] # Truncate to match the length of other results"
   ]
  },
  {
   "cell_type": "code",
   "execution_count": 27,
   "id": "a7416a57",
   "metadata": {
    "execution": {
     "iopub.execute_input": "2023-06-02T17:09:32.012060Z",
     "iopub.status.busy": "2023-06-02T17:09:32.011654Z",
     "iopub.status.idle": "2023-06-02T17:09:32.018151Z",
     "shell.execute_reply": "2023-06-02T17:09:32.016827Z"
    },
    "papermill": {
     "duration": 0.025588,
     "end_time": "2023-06-02T17:09:32.020776",
     "exception": false,
     "start_time": "2023-06-02T17:09:31.995188",
     "status": "completed"
    },
    "tags": []
   },
   "outputs": [],
   "source": [
    "def calc_cum(df, col='Model Return'):\n",
    "    df['Cum Return'] = np.cumsum(df[col])\n",
    "    return df"
   ]
  },
  {
   "cell_type": "code",
   "execution_count": 28,
   "id": "a0d2e4a3",
   "metadata": {
    "execution": {
     "iopub.execute_input": "2023-06-02T17:09:32.052661Z",
     "iopub.status.busy": "2023-06-02T17:09:32.052247Z",
     "iopub.status.idle": "2023-06-02T17:09:32.065034Z",
     "shell.execute_reply": "2023-06-02T17:09:32.063784Z"
    },
    "papermill": {
     "duration": 0.032151,
     "end_time": "2023-06-02T17:09:32.067991",
     "exception": false,
     "start_time": "2023-06-02T17:09:32.035840",
     "status": "completed"
    },
    "tags": []
   },
   "outputs": [],
   "source": [
    "# Calculate cumulative returns\n",
    "results_init = calc_cum(results_init).dropna()\n",
    "results_aug = calc_cum(results_aug).dropna()\n",
    "results_fs = calc_cum(results_fs).dropna()"
   ]
  },
  {
   "cell_type": "code",
   "execution_count": 29,
   "id": "5a342f41",
   "metadata": {
    "ExecuteTime": {
     "end_time": "2023-05-31T16:00:53.546116Z",
     "start_time": "2023-05-31T16:00:53.114860Z"
    },
    "collapsed": false,
    "execution": {
     "iopub.execute_input": "2023-06-02T17:09:32.239772Z",
     "iopub.status.busy": "2023-06-02T17:09:32.239291Z",
     "iopub.status.idle": "2023-06-02T17:09:32.720241Z",
     "shell.execute_reply": "2023-06-02T17:09:32.719018Z"
    },
    "jupyter": {
     "outputs_hidden": false
    },
    "papermill": {
     "duration": 0.640027,
     "end_time": "2023-06-02T17:09:32.723197",
     "exception": false,
     "start_time": "2023-06-02T17:09:32.083170",
     "status": "completed"
    },
    "tags": []
   },
   "outputs": [
    {
     "data": {
      "image/png": "[encoded data removed]",
      "text/plain": [
       "<Figure size 1000x500 with 1 Axes>"
      ]
     },
     "metadata": {},
     "output_type": "display_data"
    }
   ],
   "source": [
    "plt.figure(figsize=(10, 5))\n",
    "plt.suptitle('Cumulative Returns', fontsize=15)\n",
    "plt.plot(results_init['Cum Return'], color='tomato', label='Original')\n",
    "plt.plot(results_aug['Cum Return'], color='lightseagreen', label='Augmented')\n",
    "plt.plot(results_fs['Cum Return'], color='royalblue', label='Aug. + FS')\n",
    "plt.legend()\n",
    "plt.show()"
   ]
  },
  {
   "cell_type": "markdown",
   "id": "0f5178c0",
   "metadata": {
    "papermill": {
     "duration": 0.015858,
     "end_time": "2023-06-02T17:09:32.755376",
     "exception": false,
     "start_time": "2023-06-02T17:09:32.739518",
     "status": "completed"
    },
    "tags": []
   },
   "source": [
    "### Additional statistics"
   ]
  },
  {
   "cell_type": "code",
   "execution_count": 30,
   "id": "477d3abd",
   "metadata": {
    "ExecuteTime": {
     "end_time": "2023-05-31T16:08:33.243835Z",
     "start_time": "2023-05-31T16:08:32.543697Z"
    },
    "collapsed": false,
    "execution": {
     "iopub.execute_input": "2023-06-02T17:09:32.789652Z",
     "iopub.status.busy": "2023-06-02T17:09:32.788844Z",
     "iopub.status.idle": "2023-06-02T17:09:33.683121Z",
     "shell.execute_reply": "2023-06-02T17:09:33.682118Z"
    },
    "jupyter": {
     "outputs_hidden": false
    },
    "papermill": {
     "duration": 0.914836,
     "end_time": "2023-06-02T17:09:33.685889",
     "exception": false,
     "start_time": "2023-06-02T17:09:32.771053",
     "status": "completed"
    },
    "tags": []
   },
   "outputs": [
    {
     "data": {
      "image/png": "[encoded data removed]",
      "text/plain": [
       "<Figure size 2100x500 with 3 Axes>"
      ]
     },
     "metadata": {},
     "output_type": "display_data"
    }
   ],
   "source": [
    "from sklearn.metrics import roc_curve, roc_auc_score\n",
    "\n",
    "fig, axes = plt.subplots(1, 3, figsize=(21, 5))\n",
    "\n",
    "# Box plot\n",
    "axes[0].boxplot([results_init['Model Return'], results_aug['Model Return'], results_fs['Model Return']])\n",
    "axes[0].set_xticks([1, 2, 3], ['Original', 'Augmented', 'Aug. + FS'])\n",
    "axes[0].set_title('Returns', fontsize=15)\n",
    "\n",
    "# ROC Curve\n",
    "fpr0, tpr0, _ = roc_curve(results_init['Target'], results_init['y_prob'])\n",
    "fpr1, tpr1, _ = roc_curve(results_aug['Target'], results_aug['y_prob'])\n",
    "fpr2, tpr2, _ = roc_curve(results_fs['Target'], results_fs['y_prob'])\n",
    "\n",
    "axes[1].plot([0, 1], [0, 1], color='lightsteelblue') # Reference line\n",
    "axes[1].plot(fpr0, tpr0, color='tomato', label='Original')\n",
    "axes[1].plot(fpr1, tpr1, color='lightseagreen', label='Augmented')\n",
    "axes[1].plot(fpr2, tpr2, color='royalblue', label='Aug. + FS')\n",
    "axes[1].set_title('ROC Curve', fontsize=15)\n",
    "axes[1].set_xlim([0, 1])\n",
    "axes[1].set_ylim([0, 1])\n",
    "axes[1].set_ylabel('True Positive Rate')\n",
    "axes[1].set_xlabel('False Positive Rate')\n",
    "axes[1].legend()\n",
    "\n",
    "# Feature Importance\n",
    "axes[2].bar(clf.feature_names_in_, clf.feature_importances_, color='royalblue')\n",
    "axes[2].set_title('Feature Importance', fontsize=15)\n",
    "axes[2].set_ylim([0, max(clf.feature_importances_) * 1.1])\n",
    "axes[2].set_xticks(clf.feature_names_in_)\n",
    "axes[2].set_xticklabels(clf.feature_names_in_, rotation=45, rotation_mode='anchor', ha='right', fontsize=7)\n",
    "\n",
    "plt.show()"
   ]
  }
 ],
 "metadata": {
  "kernelspec": {
   "display_name": "Python 3",
   "language": "python",
   "name": "python3"
  },
  "language_info": {
   "codemirror_mode": {
    "name": "ipython",
    "version": 3
   },
   "file_extension": ".py",
   "mimetype": "text/x-python",
   "name": "python",
   "nbconvert_exporter": "python",
   "pygments_lexer": "ipython3",
   "version": "3.10.10"
  },
  "papermill": {
   "default_parameters": {},
   "duration": 17757.829601,
   "end_time": "2023-06-02T17:09:36.376005",
   "environment_variables": {},
   "exception": null,
   "input_path": "__notebook__.ipynb",
   "output_path": "__notebook__.ipynb",
   "parameters": {},
   "start_time": "2023-06-02T12:13:38.546404",
   "version": "2.4.0"
  }
 },
 "nbformat": 4,
 "nbformat_minor": 5
}
