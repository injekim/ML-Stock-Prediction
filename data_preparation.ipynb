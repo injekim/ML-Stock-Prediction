{
 "cells": [
  {
   "cell_type": "code",
   "execution_count": 1,
   "metadata": {
    "collapsed": true,
    "ExecuteTime": {
     "start_time": "2023-05-30T18:02:53.444129Z",
     "end_time": "2023-05-30T18:02:53.596019Z"
    }
   },
   "outputs": [],
   "source": [
    "import yfinance as yf\n",
    "import os"
   ]
  },
  {
   "cell_type": "markdown",
   "source": [
    "### Download stock history from Yahoo Finance"
   ],
   "metadata": {
    "collapsed": false
   }
  },
  {
   "cell_type": "code",
   "execution_count": 2,
   "outputs": [],
   "source": [
    "ticker = 'AAPL'\n",
    "period = 'max'"
   ],
   "metadata": {
    "collapsed": false,
    "ExecuteTime": {
     "start_time": "2023-05-30T18:02:53.597366Z",
     "end_time": "2023-05-30T18:02:53.600510Z"
    }
   }
  },
  {
   "cell_type": "code",
   "execution_count": 3,
   "outputs": [
    {
     "data": {
      "text/plain": "                               Open      High       Low     Close     Volume  \\\nDate                                                                           \n1980-12-12 00:00:00-05:00  0.099584  0.100017  0.099584  0.099584  469033600   \n1980-12-15 00:00:00-05:00  0.094821  0.094821  0.094388  0.094388  175884800   \n1980-12-16 00:00:00-05:00  0.087893  0.087893  0.087461  0.087461  105728000   \n1980-12-17 00:00:00-05:00  0.089625  0.090058  0.089625  0.089625   86441600   \n1980-12-18 00:00:00-05:00  0.092224  0.092657  0.092224  0.092224   73449600   \n\n                           Dividends  Stock Splits  \nDate                                                \n1980-12-12 00:00:00-05:00        0.0           0.0  \n1980-12-15 00:00:00-05:00        0.0           0.0  \n1980-12-16 00:00:00-05:00        0.0           0.0  \n1980-12-17 00:00:00-05:00        0.0           0.0  \n1980-12-18 00:00:00-05:00        0.0           0.0  ",
      "text/html": "<div>\n<style scoped>\n    .dataframe tbody tr th:only-of-type {\n        vertical-align: middle;\n    }\n\n    .dataframe tbody tr th {\n        vertical-align: top;\n    }\n\n    .dataframe thead th {\n        text-align: right;\n    }\n</style>\n<table border=\"1\" class=\"dataframe\">\n  <thead>\n    <tr style=\"text-align: right;\">\n      <th></th>\n      <th>Open</th>\n      <th>High</th>\n      <th>Low</th>\n      <th>Close</th>\n      <th>Volume</th>\n      <th>Dividends</th>\n      <th>Stock Splits</th>\n    </tr>\n    <tr>\n      <th>Date</th>\n      <th></th>\n      <th></th>\n      <th></th>\n      <th></th>\n      <th></th>\n      <th></th>\n      <th></th>\n    </tr>\n  </thead>\n  <tbody>\n    <tr>\n      <th>1980-12-12 00:00:00-05:00</th>\n      <td>0.099584</td>\n      <td>0.100017</td>\n      <td>0.099584</td>\n      <td>0.099584</td>\n      <td>469033600</td>\n      <td>0.0</td>\n      <td>0.0</td>\n    </tr>\n    <tr>\n      <th>1980-12-15 00:00:00-05:00</th>\n      <td>0.094821</td>\n      <td>0.094821</td>\n      <td>0.094388</td>\n      <td>0.094388</td>\n      <td>175884800</td>\n      <td>0.0</td>\n      <td>0.0</td>\n    </tr>\n    <tr>\n      <th>1980-12-16 00:00:00-05:00</th>\n      <td>0.087893</td>\n      <td>0.087893</td>\n      <td>0.087461</td>\n      <td>0.087461</td>\n      <td>105728000</td>\n      <td>0.0</td>\n      <td>0.0</td>\n    </tr>\n    <tr>\n      <th>1980-12-17 00:00:00-05:00</th>\n      <td>0.089625</td>\n      <td>0.090058</td>\n      <td>0.089625</td>\n      <td>0.089625</td>\n      <td>86441600</td>\n      <td>0.0</td>\n      <td>0.0</td>\n    </tr>\n    <tr>\n      <th>1980-12-18 00:00:00-05:00</th>\n      <td>0.092224</td>\n      <td>0.092657</td>\n      <td>0.092224</td>\n      <td>0.092224</td>\n      <td>73449600</td>\n      <td>0.0</td>\n      <td>0.0</td>\n    </tr>\n  </tbody>\n</table>\n</div>"
     },
     "execution_count": 3,
     "metadata": {},
     "output_type": "execute_result"
    }
   ],
   "source": [
    "df = yf.Ticker(ticker).history(period=period, prepost=True)\n",
    "df = df.dropna()\n",
    "df.head()"
   ],
   "metadata": {
    "collapsed": false,
    "ExecuteTime": {
     "start_time": "2023-05-30T18:02:53.598778Z",
     "end_time": "2023-05-30T18:02:54.264981Z"
    }
   }
  },
  {
   "cell_type": "markdown",
   "source": [
    "### Save dataframe to file"
   ],
   "metadata": {
    "collapsed": false
   }
  },
  {
   "cell_type": "code",
   "execution_count": 4,
   "outputs": [],
   "source": [
    "dir = ticker + '.json'\n",
    "if os.path.exists(dir):\n",
    "    os.remove(dir)\n",
    "df.to_json(dir)"
   ],
   "metadata": {
    "collapsed": false,
    "ExecuteTime": {
     "start_time": "2023-05-30T18:02:54.262752Z",
     "end_time": "2023-05-30T18:02:54.350177Z"
    }
   }
  }
 ],
 "metadata": {
  "kernelspec": {
   "display_name": "Python 3",
   "language": "python",
   "name": "python3"
  },
  "language_info": {
   "codemirror_mode": {
    "name": "ipython",
    "version": 2
   },
   "file_extension": ".py",
   "mimetype": "text/x-python",
   "name": "python",
   "nbconvert_exporter": "python",
   "pygments_lexer": "ipython2",
   "version": "2.7.6"
  }
 },
 "nbformat": 4,
 "nbformat_minor": 0
}
